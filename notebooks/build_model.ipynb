{
 "cells": [
  {
   "cell_type": "code",
   "execution_count": 1,
   "metadata": {},
   "outputs": [],
   "source": [
    "import pandas as pd\n",
    "import numpy as np\n",
    "import datetime\n",
    "import time"
   ]
  },
  {
   "cell_type": "code",
   "execution_count": 2,
   "metadata": {},
   "outputs": [],
   "source": [
    "from sklearn import svm\n",
    "from sklearn import preprocessing\n",
    "from sklearn import metrics\n",
    "from sklearn.impute import SimpleImputer\n",
    "from sklearn.model_selection import train_test_split\n",
    "from sklearn.model_selection import KFold\n",
    "from sklearn.model_selection import cross_val_score, cross_val_predict\n",
    "# from sklearn.model_selection import StratifiedKFold"
   ]
  },
  {
   "cell_type": "code",
   "execution_count": 8,
   "metadata": {},
   "outputs": [],
   "source": [
    "proto_map = {'tcp': 1, 'udp': 2, 'rtp': 3, 'rtcp': 4}\n",
    "direction_map = {'   ->': 1, '  <?>': 2, '   ?>': 3, '  <->': 4}\n",
    "state_map = {\n",
    "    'S_': 1,\n",
    "    'FSPA_FSPA': 2,\n",
    "    'SRPA_SA': 3,\n",
    "    'SRPA_SPA': 4,\n",
    "    'FSPA_FSRPA': 5,\n",
    "    'S_RA': 6,\n",
    "    'FSPA_SRPA': 7,\n",
    "    'FSRPA_SPA': 8,\n",
    "    'FSRPA_SA': 9,\n",
    "    'PA_R': 10,\n",
    "    'SRPA_FSPA': 11,\n",
    "    'SPA_FSRPA': 12,\n",
    "    'FSRPA_FSPA': 13,\n",
    "    'FSPA_FSA':  14,\n",
    "    'CON': 15,\n",
    "    'FPA_R': 16,\n",
    "    'SRPA_FSRPA': 17,\n",
    "    'RST': 18,\n",
    "    'SPA_SRPA': 19,\n",
    "    'SR_SA': 20,\n",
    "    'INT': 21,\n",
    "    'SA_R': 22,\n",
    "    'SPA_SPA': 23,\n",
    "    'SR_A': 24,\n",
    "    'FIN': 25,\n",
    "    'FPA_':  26,\n",
    "    'SPA_SA': 27,\n",
    "    'REQ': 28,\n",
    "    'RPA_R': 29,\n",
    "    'FA_R': 30,\n",
    "    'FSPA_SA': 40,\n",
    "    'FSRPA_SRA': 41,\n",
    "    'A_R': 42,\n",
    "    'FSRPA_FSRPA': 43,\n",
    "    'SRA_R': 44,\n",
    "    'SPA_FSPA': 45,\n",
    "    'SRPA_R': 46,\n",
    "    'SPA_SRA': 47,\n",
    "    'RA_R': 48,\n",
    "    'RA_': 49,\n",
    "    'SRA_SRA': 50,\n",
    "    'S_SA': 51,\n",
    "    'R_': 52,\n",
    "    'A_RPA': 53,\n",
    "    'FRPA_': 54,\n",
    "    'A_': 55,\n",
    "    'SA_SA': 56\n",
    "}"
   ]
  },
  {
   "cell_type": "code",
   "execution_count": 40,
   "metadata": {},
   "outputs": [],
   "source": [
    "def get_predict(X_train, X_test):\n",
    "    clf = svm.OneClassSVM(kernel=\"rbf\", gamma='scale', cache_size=3000)\n",
    "    scaler = preprocessing.StandardScaler().fit(X_train)\n",
    "#     scaler = preprocessing.RobustScaler().fit(X_train)\n",
    "    clf.fit(scaler.transform(X_train))\n",
    "    return clf.predict(scaler.transform(X_test))"
   ]
  },
  {
   "cell_type": "code",
   "execution_count": 9,
   "metadata": {},
   "outputs": [],
   "source": [
    "feature_df = df.copy()\n",
    "feature_df = feature_df.loc[feature_df['Label'] == 1].reset_index(drop=True)\n",
    "feature_df['Proto'] = feature_df['Proto'].map(proto_map)\n",
    "feature_df['Dir'] = feature_df['Dir'].map(direction_map)\n",
    "feature_df['State'] = feature_df['State'].map(state_map)\n",
    "feature_df = feature_df.drop(columns=['StartTime', 'Label', 'SrcAddr', 'Sport', 'DstAddr', 'Dport', 'sTos', 'dTos', 'is_fwd' ])"
   ]
  },
  {
   "cell_type": "code",
   "execution_count": 34,
   "metadata": {},
   "outputs": [],
   "source": [
    "X = feature_df.iloc[:80000].to_numpy()\n",
    "kf = KFold(n_splits=3)\n",
    "results = []\n",
    "score = []\n",
    "for train_index, test_index in kf.split(X):\n",
    "    X_train, X_test = X[train_index], X[test_index]\n",
    "    start = time.time()\n",
    "    result = get_predict(X_train, X_test)\n",
    "    end = time.time()\n",
    "    results.append(result)\n",
    "    print('One Done')\n",
    "    print('Time')\n",
    "    print(end - start)\n",
    "    print('Percentage')\n",
    "    total = len(result)\n",
    "    count = 0\n",
    "    for item in result:\n",
    "        if item == 1:\n",
    "            count = count + 1\n",
    "    print(count/total * 100)\n",
    "    score.append(count/total * 100)\n",
    "mean = (score[0] + score[1] + score[2])/3\n",
    "mean"
   ]
  },
  {
   "cell_type": "code",
   "execution_count": null,
   "metadata": {},
   "outputs": [],
   "source": [
    "# results = []\n",
    "# for train_index, test_index in kf.split(X):\n",
    "#     X_train, X_test = X[train_index], X[test_index]\n",
    "#     results.append(get_predict(X_train, X_test))\n",
    "#     print('One Done')"
   ]
  },
  {
   "cell_type": "code",
   "execution_count": null,
   "metadata": {},
   "outputs": [],
   "source": [
    "# enc = preprocessing.OneHotEncoder()\n",
    "# X = [['male', 'from US', 'uses Safari'], ['female', 'from Europe', 'uses Firefox']]\n",
    "# enc.transform([['female', 'from US', 'uses Safari'],\n",
    "#                ['male', 'from Europe', 'uses Safari']]).toarray()\n",
    "#Impute mean\n",
    "# imp = SimpleImputer(missing_values=np.nan, strategy='mean')\n",
    "# imp.fit(test_2['Time2FlowFwd_10T'].to_numpy())\n",
    "# kf = KFold(n_splits=3, shuffle=True)\n",
    "# kf = StratifiedKFold(n_splits=3, shuffle=True) "
   ]
  }
 ],
 "metadata": {
  "kernelspec": {
   "display_name": "Python 3.8.1 64-bit ('RDM-env': venv)",
   "language": "python",
   "name": "python38164bitrdmenvvenv4b617ac6a3c04225a7e20584d0a1c7e8"
  },
  "language_info": {
   "codemirror_mode": {
    "name": "ipython",
    "version": 3
   },
   "file_extension": ".py",
   "mimetype": "text/x-python",
   "name": "python",
   "nbconvert_exporter": "python",
   "pygments_lexer": "ipython3",
   "version": "3.8.1"
  }
 },
 "nbformat": 4,
 "nbformat_minor": 4
}
